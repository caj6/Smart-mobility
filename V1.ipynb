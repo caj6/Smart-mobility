{
 "cells": [
  {
   "cell_type": "markdown",
   "id": "579454b8-17f0-400d-b99a-ad1f44915f36",
   "metadata": {},
   "source": [
    "<img src=\"https://s3.eu-west-3.amazonaws.com/moovijob.prod/2465179/conversions/lg_cesi-blanc-thumb-banner.jpg\" style=\"width:300px;\">\n",
    "\n",
    "# <center> CER 8 \n",
    "# <center> Graph theory \n",
    "# <center> Part 1 </center>\n",
    "\n",
    "Date : 08/10/24\n"
   ]
  },
  {
   "cell_type": "markdown",
   "id": "f5836690-7ed9-4bec-ac61-dbe715308d75",
   "metadata": {},
   "source": [
    "# <center> Prosit Heading: Small detour\n",
    "\n",
    "\n",
    "#### Roles:\n",
    "* Facilitator: Palal \n",
    "* Manager: Junior\n",
    "* Secretary: Jeremy\n",
    "* Scribe: Peïo\n",
    "\n",
    "## 1) Understanding the Topic and Clarifying\n",
    "### 1.1) Keywords: \n",
    "\n",
    "-\t**Minimum Spanning Tree** : of a graph is a subgraph that connects all the vertices with the minimum possible total                                    edge weight and without any cycles.\n",
    "-\t**Graph** : is a data structure that consists of a set of vertices (or nodes) and a set of edges that connect pairs of vertices.\n",
    "-\t**Performance algo** : algorithms designed to optimize or evaluate the performance of systems, processes, or programs.\n",
    "-\t**Complexity** : refers to the analysis of how algorithms perform concerning time (speed) and space (memory usage) as the size of the input grows. \n",
    "-\t**CPU** : the primary component of a computer that performs most of the processing inside the system\n",
    "-\t**Optimal route** : determining the shortest or most efficient path between points\n",
    "-\t**Asymptotique complexity** : focuses on the growth rate rather than exact timings or memory usage, which makes it useful for comparing algorithms' scalability.\n",
    "-\t**Königsberg bridges** : famous problem in graph theory that led to the development of the field.\n",
    "-\t**Euler Paths / Circuit** : is a path that starts and ends at the same vertex and visits each edge exactly once.\n",
    "                                A connected graph has an Eulerian circuit if and only if every vertex has an even degree\n",
    "\n",
    "### 1.2) Context:\n",
    "\n",
    "ADEME wishes to optimize the change of streetlamp and the route (time and fuel consumption)\n",
    "## 2) Needs Analysis:\n",
    "\n",
    "### 2.1) Issues:\n",
    "\n",
    "How do find the most optimal path to ensure off streetlights are changed in the most efficient way?\n",
    "\n",
    "### 2.2) Constraints:\n",
    "\n",
    "- The speed of the algorithm must be less than 2 weeks\n",
    "- If not, choose the best path\n",
    "- The evolution of the size of the city\n",
    "- Pass through each street once\n",
    "### 2.3) Deliverable:\n",
    "\n",
    "-\tFunctional program\n",
    "\n",
    "## 3) Generalization:\n",
    "\n",
    "-\tGraph theory\n",
    "-\tEuler Path and Circuits\n",
    "-\tAlgorithmic complexity\n",
    "\n",
    "## 4) Solution Tracks:\n",
    "\n",
    "-\t<font color= green> You will have to go through each street only once\n",
    "-\t<font color= red> The Complexity of the code is nlog(n) or log(n)\n",
    "-\t<font color= red> Ability of (1) depends on size of city\n",
    "-\t<font color= green> The use of the minimum spanning tree is unnecessary\n",
    "-\t<font color= red> We will use the Fleury algorithm\n",
    "-\t<font color= red> Konigsberg bridges is useful \n",
    "\n",
    "\n",
    "## 5) Developing the Action Plan:\n",
    "\n",
    "1.\t<font color= green> Define keywords.\n",
    "2.\t<font color= green> Exercise Basket / WS.\n",
    "3.\t<font color= green> Resource Analysis.\n",
    "4.\t<font color= red>Analyze the two images \n",
    "5.\t<font color= green> Modeling the problem with graph(s)\n",
    "6.\t<font color= green> Analyze and explain the graph(s)\n",
    "7.\t<font color= green>Find theoretical solution\n",
    "8.\t<font color= green> Use external data for testing and varying\n",
    "9.\t<font color= green> Create and implemented the code\n",
    "10.\t<font color= green> Time the program\n",
    "11.\t<font color= green> Estimate and analyze the complexity code\n",
    "12.\t<font color= red> Optimize the complexity code \n",
    "13.\t<font color= green> Validation of assumptions.\n",
    "14.\t<font color= green>Conclusion."
   ]
  },
  {
   "cell_type": "markdown",
   "id": "89e8081f-85b5-41f6-ba15-386f42942a51",
   "metadata": {},
   "source": [
    "## 6) Ressource analysis\n",
    "###  Königsberg bridge problem\n",
    "\n",
    "<img src=\"https://mathworld.wolfram.com/images/gifs/koenigsb.gif\">\n",
    "\n",
    "**The Problem Statement**\n",
    "\n",
    "Can a person enter the landmass via one bridge and exit it through another bridge, traversing each of the seven bridges exactly once without swimming across the river?\n",
    "\n",
    "**Euler’s Solution**\n",
    "\n",
    "Leonhard Euler, a renowned mathematician, solved the problem in the 18th century. He concluded that such a walk is impossible, demonstrating that the number of edges touching each node (landmass) must be even. In this case, three landmasses had an odd number of bridges, making it impossible to traverse each bridge exactly once without backtracking.\n",
    "###  Minimum Spanning Tree (MST)\n",
    "**Comparison of MST Algorithms**"
   ]
  },
  {
   "cell_type": "code",
   "execution_count": 75,
   "id": "84958bd9-2b22-470b-937b-0d0ccbbcc44a",
   "metadata": {},
   "outputs": [
    {
     "ename": "",
     "evalue": "",
     "output_type": "error",
     "traceback": [
      "\u001b[1;31mThe Kernel crashed while executing code in the current cell or a previous cell. \n",
      "\u001b[1;31mPlease review the code in the cell(s) to identify a possible cause of the failure. \n",
      "\u001b[1;31mClick <a href='https://aka.ms/vscodeJupyterKernelCrash'>here</a> for more info. \n",
      "\u001b[1;31mView Jupyter <a href='command:jupyter.viewOutput'>log</a> for further details."
     ]
    }
   ],
   "source": [
    "data = [\n",
    "    [\"Algorithm\", \"Time Complexity\", \"Space Complexity\", \"Suitable For\"],\n",
    "    [\"Kruskal’s\", \"O(ElogE)\", \"O(E+V)\", \"Sparse graphs\"],\n",
    "    [\"Prim’s\", \"O(ElogV)\", \"O(E+V)\", \"Dense graphs\"],\n",
    "    [\"Borůvka’s\", \"O(ElogV)\", \"O(E+V)\", \"Parallel/distributed MST\"]\n",
    "]\n",
    "\n",
    "html_table = \"<table><tr><th>Algorithm</th><th>Time Complexity</th><th>Space Complexity</th><th>Suitable For</th></tr>\"\n",
    "for row in data[1:]:\n",
    "    html_table += \"<tr>\"\n",
    "    for item in row:\n",
    "        html_table += f\"<td>{item}</td>\"\n",
    "    html_table += \"</tr>\"\n",
    "html_table += \"</table>\"\n",
    "\n",
    "display(HTML(html_table))\n"
   ]
  },
  {
   "cell_type": "markdown",
   "id": "61808a40-c4d1-4b7e-82ef-93bf77a037f4",
   "metadata": {},
   "source": [
    "**Applications of MST Algorithms**\n",
    "\n",
    "* Network Design: Designing efficient layouts for telecommunication, electrical, and transportation networks.\n",
    "* Cluster Analysis: Grouping similar points into clusters by minimizing the distance (cost) between points.\n",
    "* Image Processing: Segmenting images by modeling pixels as vertices and using edges to represent similarity between them.\n",
    "  \n",
    "MST algorithms provide efficient ways to solve such problems, and the choice of algorithm often depends on the properties of the graph (sparse vs. dense) and the computational constraints."
   ]
  },
  {
   "cell_type": "markdown",
   "id": "d115362a-49c2-486c-8a5a-a1b582a8af64",
   "metadata": {},
   "source": [
    "###  Asymptotic complexity \n",
    "\n",
    "This is a way to describe the behavior of an algorithm as the input size approaches infinity. It provides an estimation of the algorithm’s efficiency in terms of time or space (memory) as the input size, denoted as \n",
    "𝑛\n",
    "n, grows. \n",
    "\n",
    "<img src=\"https://i.ytimg.com/vi/2TlwshWSVOU/maxresdefault.jpg\">\n",
    "\n",
    "#### Types of Asymptotic Notations\n",
    "\n",
    "To express asymptotic complexity, several standard notations are used:"
   ]
  },
  {
   "cell_type": "code",
   "execution_count": 79,
   "id": "6dd31c20-7306-42a1-9e9c-50140aa08efe",
   "metadata": {},
   "outputs": [
    {
     "data": {
      "text/html": [
       "<table><tr><th>Notation</th><th>Definition</th><th>Example</th><th>Use Case</th></tr><tr><td>Big O Notation (O)</td><td>Provides an upper bound on the running time (or space) of an algorithm. It describes the worst-case scenario, ensuring the algorithm won't exceed this limit.</td><td>If an algorithm has a time complexity of O(n²), it means the running time will not grow faster than n² as the input size increases.</td><td>Worst-case analysis to guarantee performance under all conditions.</td></tr><tr><td>Big Omega Notation (Ω)</td><td>Provides a lower bound on the running time. It describes the best-case scenario or the minimum time the algorithm will take.</td><td>An algorithm with time complexity Ω(n) means the running time will be at least linear, regardless of optimizations or input variations.</td><td>Best-case analysis or proving the minimum requirements for an algorithm's performance.</td></tr><tr><td>Big Theta Notation (Θ)</td><td>Provides a tight bound on the running time, meaning the algorithm’s running time grows at the same rate in both the upper and lower bounds.</td><td>If an algorithm has time complexity Θ(nlogn), its growth rate is exactly nlogn, neither faster nor slower.</td><td>Ideal when we want to show that the algorithm’s running time is well defined and consistent, without variance between best and worst cases.</td></tr><tr><td>Little o Notation (o)</td><td>Describes an upper bound that is not asymptotically tight. It shows that an algorithm’s running time grows slower than a given function as the input size becomes very large.</td><td>If an algorithm has time complexity o(n²), it means its running time is less than n², but it doesn't grow as quickly.</td><td>To indicate that an algorithm is faster than a particular rate but not necessarily faster than all other rates.</td></tr><tr><td>Little omega Notation (ω)</td><td>Describes a lower bound that is not asymptotically tight. It shows that an algorithm’s running time grows faster than a given function as the input size becomes very large.</td><td>If an algorithm has time complexity ω(n), it means its running time grows faster than n.</td><td>To indicate that an algorithm takes more time than a particular rate but may still be bounded above by some other function.</td></tr></table>"
      ],
      "text/plain": [
       "<IPython.core.display.HTML object>"
      ]
     },
     "metadata": {},
     "output_type": "display_data"
    }
   ],
   "source": [
    "from IPython.display import display, HTML\n",
    "\n",
    "data = [\n",
    "    [\"Notation\", \"Definition\", \"Example\", \"Use Case\"],\n",
    "    [\"Big O Notation (O)\", \"Provides an upper bound on the running time (or space) of an algorithm. It describes the worst-case scenario, ensuring the algorithm won't exceed this limit.\", \"If an algorithm has a time complexity of O(n²), it means the running time will not grow faster than n² as the input size increases.\", \"Worst-case analysis to guarantee performance under all conditions.\"],\n",
    "    [\"Big Omega Notation (Ω)\", \"Provides a lower bound on the running time. It describes the best-case scenario or the minimum time the algorithm will take.\", \"An algorithm with time complexity Ω(n) means the running time will be at least linear, regardless of optimizations or input variations.\", \"Best-case analysis or proving the minimum requirements for an algorithm's performance.\"],\n",
    "    [\"Big Theta Notation (Θ)\", \"Provides a tight bound on the running time, meaning the algorithm’s running time grows at the same rate in both the upper and lower bounds.\", \"If an algorithm has time complexity Θ(nlogn), its growth rate is exactly nlogn, neither faster nor slower.\", \"Ideal when we want to show that the algorithm’s running time is well defined and consistent, without variance between best and worst cases.\"],\n",
    "    [\"Little o Notation (o)\", \"Describes an upper bound that is not asymptotically tight. It shows that an algorithm’s running time grows slower than a given function as the input size becomes very large.\", \"If an algorithm has time complexity o(n²), it means its running time is less than n², but it doesn't grow as quickly.\", \"To indicate that an algorithm is faster than a particular rate but not necessarily faster than all other rates.\"],\n",
    "    [\"Little omega Notation (ω)\", \"Describes a lower bound that is not asymptotically tight. It shows that an algorithm’s running time grows faster than a given function as the input size becomes very large.\", \"If an algorithm has time complexity ω(n), it means its running time grows faster than n.\", \"To indicate that an algorithm takes more time than a particular rate but may still be bounded above by some other function.\"]\n",
    "]\n",
    "\n",
    "html_table = \"<table><tr><th>Notation</th><th>Definition</th><th>Example</th><th>Use Case</th></tr>\"\n",
    "for row in data[1:]:\n",
    "    html_table += \"<tr>\"\n",
    "    for item in row:\n",
    "        html_table += f\"<td>{item}</td>\"\n",
    "    html_table += \"</tr>\"\n",
    "html_table += \"</table>\"\n",
    "\n",
    "display(HTML(html_table))\n"
   ]
  },
  {
   "cell_type": "markdown",
   "id": "5a0abf27-1d66-4989-9978-bf1d66c0e574",
   "metadata": {},
   "source": [
    "### Euler Paths and Euler Circuits\n",
    "\n",
    "Definitions:\n",
    "\n",
    "An *Eulerian circuit* is a path that starts and ends at the same vertex and visits each edge exactly once.\n",
    "An *Eulerian path (trail)* visits every edge exactly once but may start and end at different vertices.\n",
    "Euler's Theorem:\n",
    "\n",
    "A *connected graph* has an Eulerian circuit if and only if every vertex has an even degree (an even number of edges incident to it).\n",
    "A connected graph has an Eulerian path if exactly two vertices have an odd degree (all other vertices must have an even degree).\n",
    "\n",
    "<img src=\"https://th.bing.com/th/id/OIP.UxTdpbRNYMC271OT2yG7KQAAAA?rs=1&pid=ImgDetMain\">\n",
    "\n",
    "Thus, Euler concluded that it was impossible to cross each bridge exactly once in a single trip and return to the starting point. This finding not only solved the Königsberg problem but also laid the foundation for graph theory, an entire branch of mathematics."
   ]
  },
  {
   "cell_type": "code",
   "execution_count": 82,
   "id": "bbe0db99-e593-49d0-9be2-85379822809a",
   "metadata": {},
   "outputs": [
    {
     "data": {
      "text/html": [
       "<table><tr><th>Concept</th><th>Definition</th><th>Conditions</th><th>Example</th></tr><tr><td>Euler Path</td><td>A path in a graph that visits every edge exactly once.</td><td>A connected graph has an Euler path if and only if it has exactly zero or two vertices of odd degree.</td><td>A graph with vertices A, B, C, D where A and D have degree 3, and B and C have degree 2.</td></tr><tr><td>Euler Circuit</td><td>A circuit in a graph that visits every edge exactly once and returns to the starting vertex.</td><td>A connected graph has an Euler circuit if and only if every vertex has an even degree.</td><td>A graph with vertices A, B, C, D where all vertices have degree 2.</td></tr></table>"
      ],
      "text/plain": [
       "<IPython.core.display.HTML object>"
      ]
     },
     "metadata": {},
     "output_type": "display_data"
    }
   ],
   "source": [
    "from IPython.display import display, HTML\n",
    "\n",
    "data = [\n",
    "    [\"Concept\", \"Definition\", \"Conditions\", \"Example\"],\n",
    "    [\"Euler Path\", \"A path in a graph that visits every edge exactly once.\", \"A connected graph has an Euler path if and only if it has exactly zero or two vertices of odd degree.\", \"A graph with vertices A, B, C, D where A and D have degree 3, and B and C have degree 2.\"],\n",
    "    [\"Euler Circuit\", \"A circuit in a graph that visits every edge exactly once and returns to the starting vertex.\", \"A connected graph has an Euler circuit if and only if every vertex has an even degree.\", \"A graph with vertices A, B, C, D where all vertices have degree 2.\"]\n",
    "]\n",
    "\n",
    "html_table = \"<table><tr><th>Concept</th><th>Definition</th><th>Conditions</th><th>Example</th></tr>\"\n",
    "for row in data[1:]:\n",
    "    html_table += \"<tr>\"\n",
    "    for item in row:\n",
    "        html_table += f\"<td>{item}</td>\"\n",
    "    html_table += \"</tr>\"\n",
    "html_table += \"</table>\"\n",
    "\n",
    "display(HTML(html_table))\n"
   ]
  },
  {
   "cell_type": "markdown",
   "id": "e86054ca-0ceb-4d91-8cba-7978bdcfe609",
   "metadata": {},
   "source": [
    "### Graph theory\n",
    "\n",
    "Graph theory is a branch of mathematics that studies the properties and structures of graphs, which are mathematical objects consisting of vertices (or nodes) and edges (or links) that connect pairs of vertices. Here are some fundamental concepts and terms in graph theory:\n",
    "\n",
    "1. **Graph**: A graph G is an ordered pair (V, E) comprising a set V of vertices or nodes together with a set E of edges or links.\n",
    "\n",
    "2. **Vertices and Edges**: Vertices are the fundamental units of a graph, and edges connect pairs of vertices. Edges can be directed or undirected.\n",
    "\n",
    "3. **Degree of a Vertex**: The degree of a vertex is the number of edges incident to it. In a directed graph, a vertex has both an in-degree (number of edges coming in) and an out-degree (number of edges going out).\n",
    "\n",
    "4. **Paths and Cycles**:\n",
    "   - A path is a sequence of vertices connected by edges.\n",
    "   - A cycle is a path that starts and ends at the same vertex and contains no other repeated vertices or edges.\n",
    "\n",
    "5. **Connectivity**:\n",
    "   - A graph is connected if there is a path between any pair of vertices.\n",
    "   - A graph is disconnected if it is not connected.\n",
    "\n",
    "6. **Trees**: A tree is a connected graph with no cycles. Trees have several important properties, such as having exactly one path between any two vertices.\n",
    "\n",
    "7. **Bipartite Graphs**: A bipartite graph is a graph whose vertices can be divided into two disjoint sets such that no two graph vertices within the same set are adjacent.\n",
    "\n",
    "8. **Planar Graphs**: A planar graph is a graph that can be embedded in the plane, i.e., it can be drawn on a plane without edges crossing.\n",
    "\n",
    "9. **Graph Coloring**: Graph coloring is the assignment of labels (colors) to the vertices of a graph such that no two adjacent vertices share the same color. The chromatic number of a graph is the smallest number of colors needed to color the graph.\n",
    "\n",
    "10. **Eulerian and Hamiltonian Paths/Cycles**:\n",
    "    - An Eulerian path is a path that visits every edge exactly once.\n",
    "    - A Hamiltonian path is a path that visits every vertex exactly once.\n",
    "    - An Eulerian cycle is a cycle that visits every edge exactly once.\n",
    "    - A Hamiltonian cycle is a cycle that visits every vertex exactly once.\n",
    "\n",
    "11. **Graph Algorithms**: There are numerous algorithms for solving problems on graphs, such as Dijkstra's algorithm for finding the shortest path, Kruskal's and Prim's algorithms for finding minimum spanning trees, and depth-first search (DFS) and breadth-first search (BFS) for traversing graphs.\n"
   ]
  },
  {
   "cell_type": "markdown",
   "id": "3b06aec7-abc2-4428-a3c3-288211ba17db",
   "metadata": {},
   "source": [
    "## Hierholzer\n",
    "\n",
    "The Hierholzer algorithm is used to find an Eulerian cycle (or circuit) in a graph if one exists. An Eulerian cycle is a cycle that visits every edge exactly once and returns to the starting vertex. The graph must satisfy certain conditions:\n",
    "\n",
    "All vertices with edges must have an even degree (even number of edges).\n",
    "The graph must be connected (except for isolated vertices).\n",
    "Here's an explanation of how the Hierholzer algorithm works:\n",
    "\n",
    "### Algorithm Steps\n",
    "* Check if the Graph is Eulerian: Verify that every vertex has an even degree. If any vertex has an odd degree, an Eulerian cycle is not possible, and the algorithm terminates.\n",
    "\n",
    "* Start from Any Vertex: Choose any vertex with an edge as the starting point.\n",
    "\n",
    "* Follow Edges Until a Cycle is Formed:\n",
    "    * Travel along edges and mark them as used by removing them from the graph.\n",
    "    * Add vertices to a sub-cycle until you return to the starting vertex, completing a cycle.\n",
    "\n",
    "      \n",
    "* Find Any Vertex in the Cycle with Remaining Edges:\n",
    "    * If the entire graph hasn't been traversed, find a vertex in the existing cycle that still has unused edges.\n",
    "    * Repeat steps 3 and 4, forming a new cycle that will be inserted into the existing cycle.\n",
    "\n",
    "\n",
    "* Combine Cycles: Insert the new cycle into the existing cycle. Continue until all edges in the graph have been used.\n",
    "\n",
    "* Return the Cycle: Once all edges are part of the cycle and all vertices have been visited, the algorithm outputs the Eulerian cycle.\n",
    "\n",
    "### Why Use Hierholzer’s Algorithm?:\n",
    "The algorithm is simple and efficient for finding Eulerian cycles, making it preferable for large, sparse graphs.\n",
    "It is particularly useful in applications such as DNA sequencing, network routing, and graph theory problems involving the traversal of edges.\n",
    "\n",
    "### Complexity\n",
    "#### Time Complexity:\n",
    "* The time complexity of the Hierholzer algorithm is O(E), where E is the number of edges in the graph.\n",
    "* It is efficient because it processes each edge exactly once, making it suitable for large graphs.\n",
    "#### Space Complexity:\n",
    "The space complexity is O(E) as well, mainly due to storing a stack and the cycle during the traversal of edges."
   ]
  },
  {
   "cell_type": "markdown",
   "id": "9dbb8e8e-3760-4dbf-b218-959ce780bd77",
   "metadata": {},
   "source": [
    "## <center>Solution"
   ]
  },
  {
   "attachments": {},
   "cell_type": "markdown",
   "id": "0cacbd19-56e2-4e3b-9785-6fbdf2d81ec2",
   "metadata": {},
   "source": [
    "### Theoretical Solution\n",
    "\n",
    "<img src=\"https://rosalind.info/media/Konigsberg_map.png\">\n",
    "Euler's approach to the problem was to compress each area of the city to a node (as shown by the colored points in the map above), then draw each bridge as an edge connecting corresponding sectors of the city. The walk that the residents of Konigsberg desired would then correspond to an Eulerian cycle in this graph, which is shown below\n",
    "<img src=\"https://rosalind.info/media/Konigsberg_graph.png\">\n",
    "However, Euler demonstrated that a graph will possess an Eulerian cycle precisely when the degree of any node is even. As a result, the graph of Konigsberg fails to possess an Eulerian cycle, and so the desired walk cannot exist.\n",
    "\n",
    "The graph below illustrates a graph in which every node has even degree, with an Eulerian cycle labeled by edges in order from \"A\" to \"K\". Note that this Eulerian cycle is not a simple cycle.\n",
    "\n",
    "Proposed solution:\n",
    "\n",
    "<img src=\"https://rosalind.info/media/Eulerian_cycle.png\">\n",
    "\n",
    "That is by making sure they have Eulerian cycles."
   ]
  },
  {
   "cell_type": "markdown",
   "id": "34354793-6e4b-4d8c-93ff-b7faa77d82c2",
   "metadata": {},
   "source": [
    "### Functional program"
   ]
  },
  {
   "cell_type": "code",
   "execution_count": 122,
   "id": "40d36e9c-b90b-485a-a25f-f699e0264beb",
   "metadata": {},
   "outputs": [
    {
     "data": {
      "image/png": "[encoded data removed]",
      "text/plain": [
       "<Figure size 800x600 with 1 Axes>"
      ]
     },
     "metadata": {},
     "output_type": "display_data"
    }
   ],
   "source": [
    "import networkx as nx;\n",
    "import matplotlib.pyplot as plt;\n",
    "\n",
    "graph = [[1, 4], [0, 2], [1, 4, 3, 9], [2, 11], [0, 5, 6, 2], \n",
    "         [4, 7], [4, 7], [5, 6, 8, 10], [7, 9], [8, 2], \n",
    "         [7, 12], [12, 3], [10, 11]];\n",
    "\n",
    "G = nx.Graph();\n",
    "\n",
    "for i, neighbors in enumerate(graph):\n",
    "    for neighbor in neighbors:\n",
    "        G.add_edge(i, neighbor);\n",
    "        \n",
    "plt.figure(figsize=(8, 6));\n",
    "nx.draw(G, with_labels=True, node_color='skyblue', node_size=500, font_size=10, edge_color='gray');\n",
    "plt.title(\"Initial Graph Visualization\");\n",
    "plt.show();"
   ]
  },
  {
   "cell_type": "markdown",
   "id": "0bfe6c88-5b85-41ee-8386-14a2f62a51cc",
   "metadata": {},
   "source": [
    "The above graph is generated from a random site in order to provide us with an adjacency list which is supposed to help us solve our issue. "
   ]
  },
  {
   "cell_type": "markdown",
   "id": "3b7ad669-3c20-4872-9aeb-6bd7074c15ee",
   "metadata": {},
   "source": [
    "Below, we have the hierholzer algorithm which will help us to determine the most optimal route for the above graph:"
   ]
  },
  {
   "cell_type": "code",
   "execution_count": 125,
   "id": "70369d90-1729-457d-bf4c-ca410f4a97e2",
   "metadata": {},
   "outputs": [
    {
     "name": "stdout",
     "output_type": "stream",
     "text": [
      "Euclidean Cycle\n",
      "[7, 10, 12, 11, 3, 2, 9, 8, 7, 6, 4, 2, 1, 0, 4, 5, 7]\n"
     ]
    }
   ],
   "source": [
    "import random;\n",
    "\n",
    "# This represents the edges for each index. \n",
    "# For example, index 0 (node 0) in the graph is connected to nodes 1 and 4.\n",
    "graph=[[1,4],[0,2],[1,4,3,9],[2,11],[0,5,6,2],[4,7],[4,7],[5,6,8,10],[7,9],[8,2],[7,12],[12,3],[10,11]];\n",
    "\n",
    "def Hierholzer(graph):\n",
    "    if all(len(stops) % 2 == 0 for stops in graph) == True:\n",
    "        print('Euclidean Cycle');\n",
    "    else:\n",
    "        return print('No puedes continuar!');\n",
    "    largest = [graph[0]];\n",
    "    #we search for the point with the most intersection as the initial / origin\n",
    "    for i in graph[1:]:\n",
    "        if len(i) > len(largest[0]):\n",
    "            largest.clear();\n",
    "            largest.append(i);\n",
    "        elif len(i) == len(largest[0]):\n",
    "            largest.append(i);\n",
    "    origin = graph.index(random.choice(largest));\n",
    "    start = origin;\n",
    "    cur = start;\n",
    "    point_next = 0;\n",
    "    cycle = [];\n",
    "    sub = [];\n",
    "    # While the graph is not empty\n",
    "    while  all(len(stops) == 0 for stops in graph) == False:\n",
    "        point_next = random.choice(graph[cur]);\n",
    "        sub.append(cur);\n",
    "        graph[cur].remove(point_next);\n",
    "        graph[point_next].remove(cur);\n",
    "        # If we have completed a sub-cycle\n",
    "        if point_next == start:\n",
    "            if len(cycle) == 0:\n",
    "                cycle += sub;\n",
    "            else:\n",
    "                index = cycle.index(start) ;\n",
    "                cycle = cycle[:index] + sub + cycle[index:];\n",
    "            sub.clear();\n",
    "            for point in cycle[1:]:\n",
    "                if len(graph[point])>1:\n",
    "                    start = point;\n",
    "                    cur = start;\n",
    "                    break;\n",
    "        else:\n",
    "            cur = point_next;\n",
    "    cycle.append(origin);\n",
    "    return cycle;\n",
    "print(Hierholzer(graph));"
   ]
  },
  {
   "cell_type": "code",
   "execution_count": 127,
   "id": "7d8961f7-5d59-4e42-9535-51928f2402e1",
   "metadata": {},
   "outputs": [
    {
     "data": {
      "image/png": "[encoded data removed]",
      "text/plain": [
       "<Figure size 800x600 with 1 Axes>"
      ]
     },
     "metadata": {},
     "output_type": "display_data"
    }
   ],
   "source": [
    "import networkx as nx\n",
    "import matplotlib.pyplot as plt\n",
    "\n",
    "cycle = [7, 8, 9, 2, 4, 5, 7, 6, 4, 0, 1, 2, 3, 11, 12, 10, 7];\n",
    "\n",
    "C = nx.Graph();\n",
    "\n",
    "for i, neighbors in enumerate(graph):\n",
    "    for neighbor in neighbors:\n",
    "        G.add_edge(i, neighbor);\n",
    "        \n",
    "plt.figure(figsize=(8, 6));\n",
    "nx.draw(G, with_labels=True, node_color='lightblue', node_size=500, font_size=10, edge_color='red');\n",
    "plt.title(\"Euclidean cycle\");\n",
    "plt.show();"
   ]
  },
  {
   "cell_type": "markdown",
   "id": "5703b7de-bf1b-4ca8-8ad2-29397e7194b4",
   "metadata": {},
   "source": [
    "The above graph shows the optimal route to change the street lamps colored in $red$."
   ]
  },
  {
   "cell_type": "markdown",
   "id": "438eb5b6-0900-4088-bfa3-b18e249a7e83",
   "metadata": {},
   "source": [
    "### Algorithm Complexity analysis\n",
    "\n",
    "*Initial Check for Eulerian Cycle*\n",
    "\n",
    "Time complexity:  $O(V)$, where V is the number of vertices.\n",
    "\n",
    "*Finding the Starting Point*\n",
    "\n",
    "The algorithm searches for the node with the most connections to use as the starting point.\n",
    "This involves iterating over all nodes and comparing the lengths of their adjacency lists.\n",
    "\n",
    "Time complexity: \n",
    "$O(V)$\n",
    "\n",
    "*Building the Eulerian Cycle*\n",
    "\n",
    "The main loop continues until all edges are removed from the graph.\n",
    "In each iteration, the algorithm selects a random neighbor, removes the edge from both nodes, and builds a sub-cycle.\n",
    "When a sub-cycle is completed, it is merged into the main cycle.\n",
    "The algorithm then finds a new starting point from the main cycle to continue the process.\n",
    "Time complexity: \n",
    "$O(E)$, where E is the number of edges. This is because each edge is processed exactly once.\n",
    "\n",
    "In summary, the complexity of Hierholzer's algorithm is \n",
    "$O(v + e)$, where:\n",
    "* v is the number of vertices\n",
    "* e is the number of edges in the graph. This is efficient for finding an Eulerian cycle in a graph."
   ]
  },
  {
   "cell_type": "markdown",
   "id": "c0fb0ba7-bf6b-442c-b47a-aeae0864290a",
   "metadata": {},
   "source": [
    "## Computation time\n",
    "\n",
    "The execution time of the Hierholzer algorithm provides valuable insights into its performance, efficiency, and practical applicability in various problems. "
   ]
  },
  {
   "cell_type": "code",
   "execution_count": 132,
   "id": "3c3859fd-3216-4fbf-9c24-ff71471c2203",
   "metadata": {},
   "outputs": [
    {
     "name": "stdout",
     "output_type": "stream",
     "text": [
      "Euclidean Cycle\n",
      "Execution time: 0.000631 seconds.\n"
     ]
    }
   ],
   "source": [
    "import timeit;\n",
    "\n",
    "def time():\n",
    "    Hierholzer(copy.deepcopy(graph));\n",
    "\n",
    "# Measure the time it takes to run the Hierholzer function once\n",
    "execution_time = timeit.timeit(time, number=1);  \n",
    "# Run the function 1 time\n",
    "print(f\"Execution time: {execution_time:.6f} seconds.\");"
   ]
  },
  {
   "cell_type": "markdown",
   "id": "df4f3f3c-a606-4c44-b812-1491291e39fa",
   "metadata": {},
   "source": [
    "## Conclusion\n",
    "\n",
    "The Hierholzer algorithm is a robust and efficient method for finding Eulerian cycles, suitable for even larger cities as its complexity depends on the vertices (crossroads) and edges (streets / paths used)."
   ]
  }
 ],
 "metadata": {
  "kernelspec": {
   "display_name": "Python 3 (ipykernel)",
   "language": "python",
   "name": "python3"
  },
  "language_info": {
   "codemirror_mode": {
    "name": "ipython",
    "version": 3
   },
   "file_extension": ".py",
   "mimetype": "text/x-python",
   "name": "python",
   "nbconvert_exporter": "python",
   "pygments_lexer": "ipython3",
   "version": "3.12.4"
  }
 },
 "nbformat": 4,
 "nbformat_minor": 5
}
